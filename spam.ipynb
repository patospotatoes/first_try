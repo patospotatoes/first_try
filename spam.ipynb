{
 "cells": [
  {
   "cell_type": "code",
   "execution_count": 47,
   "metadata": {},
   "outputs": [],
   "source": [
    "import os\n",
    "import regex as re"
   ]
  },
  {
   "cell_type": "code",
   "execution_count": 48,
   "metadata": {},
   "outputs": [],
   "source": [
    "reg = re.compile(r'(^\\d*)')"
   ]
  },
  {
   "cell_type": "code",
   "execution_count": 49,
   "metadata": {},
   "outputs": [
    {
     "data": {
      "text/plain": [
       "'1'"
      ]
     },
     "execution_count": 49,
     "metadata": {},
     "output_type": "execute_result"
    }
   ],
   "source": [
    "reg.search('1.[1280x720] Video Course Introduction  Welcome  DSE200x Courseware  edX.mp4').group(1)"
   ]
  },
  {
   "cell_type": "code",
   "execution_count": 50,
   "metadata": {},
   "outputs": [],
   "source": [
    "name_list = []\n",
    "for i,j,k in os.walk('C:\\\\Users\\\\Fasih\\\\Desktop\\\\p4ds'):\n",
    "    for name in sorted(k):\n",
    "        name_list.append(name)"
   ]
  },
  {
   "cell_type": "code",
   "execution_count": 51,
   "metadata": {},
   "outputs": [
    {
     "data": {
      "text/plain": [
       "['1.[1280x720] Video Course Introduction  Welcome  DSE200x Courseware  edX.mp4',\n",
       " '1.[1280x720] Video Getting Value out of Data  Engagement Data Science, Generating Value From Data  DSE200x Courseware  edX (1).mp4',\n",
       " '1.[1280x720] Video Introduction  Week 2 Introduction  DSE200x Courseware  edX.mp4',\n",
       " '10.[1280x720] Video Python, Conditions  Python Basics  DSE200x Courseware  edX.mp4',\n",
       " '11.[1280x720] Video Python, Functions  Python Basics  DSE200x Courseware  edX.mp4',\n",
       " '12[1280x720] Video Python, Function Quiz 1 Explanation  Python Basics  DSE200x Courseware  edX.mp4',\n",
       " '13.[1280x720] Video Function Quiz 2 Explanation, False vs Swap  Python Basics  DSE200x Courseware  edX.mp4',\n",
       " '14 Step 4, Reporting Insights.mp4',\n",
       " '14.[1280x720] Video Python, Scope  Python Basics  DSE200x Courseware  edX.mp4',\n",
       " '15.[1280x720] Video Data Structures and Basic Libraries in Python  Python Key Data Structures  DSE200x Courseware  edX.mp4',\n",
       " '16.[1280x720] Video String Functions  Python Key Data Structures  DSE200x Courseware  edX.mp4',\n",
       " '17.[1280x720] Video Lists in Python  Python Key Data Structures  DSE200x Courseware  edX.mp4',\n",
       " '18.[1280x720] Video Reference Quiz Explanation  Python Key Data Structures  DSE200x Courseware  edX.mp4',\n",
       " '19.[1280x720] Video Tuples in Python  Python Key Data Structures  DSE200x Courseware  edX.mp4',\n",
       " '2.[1280x720] Video How Does Data Science Happen  Engagement How Data Science Happens  DSE200x Courseware  edX.mp4',\n",
       " '2.[1280x720] Video Leo Porter  Getting to Know Your Instructors  DSE200x Courseware  edX.mp4',\n",
       " '2.[1280x720] Video Python Overview  Python Basics  DSE200x Courseware  edX.mp4',\n",
       " '20.[1280x720] Video Dictionaries in Python  Python Key Data Structures  DSE200x Courseware  edX.mp4',\n",
       " '21.[1280x720] Video List and Dictionary Comprehension  Python Key Data Structures  DSE200x Courseware  edX.mp4',\n",
       " '22.[1280x720] Video Sets in Python  Python Key Data Structures  DSE200x Courseware  edX.mp4',\n",
       " '24.[1280x720] Video Introduction to Unix  UNIX  DSE200x Courseware  edX.mp4',\n",
       " '25.[1280x720] Video Live Code, Intro to UNIX  UNIX  DSE200x Courseware  edX.mp4',\n",
       " '26.[1280x720] Video Basic Unix Commands  UNIX  DSE200x Courseware  edX.mp4',\n",
       " '27.[1280x720] Video Redirecting Standard IO  UNIX  DSE200x Courseware  edX.mp4',\n",
       " '28.[1280x720] Video Live Code, Redirecting Standard IO  UNIX  DSE200x Courseware  edX.mp4',\n",
       " '29.[1280x720] Video Pipes and Filters  UNIX  DSE200x Courseware  edX.mp4',\n",
       " '3.[1280x720] Expert Video Value of Python in Data Science  Python Basics  DSE200x Courseware  edX.mp4',\n",
       " '3.[1280x720] Video Ilkay Altintas  Getting to Know Your Instructors  DSE200x Courseware  edX.mp4',\n",
       " '30.[1280x720] Video Live Code, Pipes and Filters  UNIX  DSE200x Courseware  edX.mp4',\n",
       " '31.[1280x720] Video Useful UNIX Commands for Data Science  UNIX  DSE200x Courseware  edX.mp4',\n",
       " '32.[1280x720] Video Live Code, Useful UNIX Commands for Data Science  UNIX  DSE200x Courseware  edX.mp4',\n",
       " '4.[1280x720] Video Course Overview  Syllabus and Course Information  DSE200x Courseware  edX.mp4',\n",
       " '4.[1280x720] Video Python, Variables  Python Basics  DSE200x Courseware  edX.mp4',\n",
       " '5.[1280x720] MicroMasters in Data Science  Succeeding in this Course  DSE200x Courseware  edX.mp4',\n",
       " '5.[1280x720] Video Python, Objects Part 1  Python Basics  DSE200x Courseware  edX.mp4',\n",
       " '6.[1280x720] Video Python, Objects Part 2  Python Basics  DSE200x Courseware  edX.mp4',\n",
       " '7.[1280x720] Video Python, Variables Quiz Explanation  Python Basics  DSE200x Courseware  edX.mp4',\n",
       " '8.[1280x720] Video Python, Loops  Python Basics  DSE200x Courseware  edX.mp4',\n",
       " '9.[1280x720] Video Python, Loop Quiz Explanation  Python Basics  DSE200x Courseware  edX.mp4']"
      ]
     },
     "execution_count": 51,
     "metadata": {},
     "output_type": "execute_result"
    }
   ],
   "source": [
    "name_list"
   ]
  },
  {
   "cell_type": "code",
   "execution_count": 52,
   "metadata": {},
   "outputs": [],
   "source": [
    "liste = []\n",
    "for name in name_list:\n",
    "        liste.append((int(reg.search(name).group(1)), name))"
   ]
  },
  {
   "cell_type": "code",
   "execution_count": 53,
   "metadata": {
    "scrolled": false
   },
   "outputs": [
    {
     "data": {
      "text/plain": [
       "[(1,\n",
       "  '1.[1280x720] Video Course Introduction  Welcome  DSE200x Courseware  edX.mp4'),\n",
       " (1,\n",
       "  '1.[1280x720] Video Getting Value out of Data  Engagement Data Science, Generating Value From Data  DSE200x Courseware  edX (1).mp4'),\n",
       " (1,\n",
       "  '1.[1280x720] Video Introduction  Week 2 Introduction  DSE200x Courseware  edX.mp4'),\n",
       " (10,\n",
       "  '10.[1280x720] Video Python, Conditions  Python Basics  DSE200x Courseware  edX.mp4'),\n",
       " (11,\n",
       "  '11.[1280x720] Video Python, Functions  Python Basics  DSE200x Courseware  edX.mp4'),\n",
       " (12,\n",
       "  '12[1280x720] Video Python, Function Quiz 1 Explanation  Python Basics  DSE200x Courseware  edX.mp4'),\n",
       " (13,\n",
       "  '13.[1280x720] Video Function Quiz 2 Explanation, False vs Swap  Python Basics  DSE200x Courseware  edX.mp4'),\n",
       " (14, '14 Step 4, Reporting Insights.mp4'),\n",
       " (14,\n",
       "  '14.[1280x720] Video Python, Scope  Python Basics  DSE200x Courseware  edX.mp4'),\n",
       " (15,\n",
       "  '15.[1280x720] Video Data Structures and Basic Libraries in Python  Python Key Data Structures  DSE200x Courseware  edX.mp4'),\n",
       " (16,\n",
       "  '16.[1280x720] Video String Functions  Python Key Data Structures  DSE200x Courseware  edX.mp4'),\n",
       " (17,\n",
       "  '17.[1280x720] Video Lists in Python  Python Key Data Structures  DSE200x Courseware  edX.mp4'),\n",
       " (18,\n",
       "  '18.[1280x720] Video Reference Quiz Explanation  Python Key Data Structures  DSE200x Courseware  edX.mp4'),\n",
       " (19,\n",
       "  '19.[1280x720] Video Tuples in Python  Python Key Data Structures  DSE200x Courseware  edX.mp4'),\n",
       " (2,\n",
       "  '2.[1280x720] Video How Does Data Science Happen  Engagement How Data Science Happens  DSE200x Courseware  edX.mp4'),\n",
       " (2,\n",
       "  '2.[1280x720] Video Leo Porter  Getting to Know Your Instructors  DSE200x Courseware  edX.mp4'),\n",
       " (2,\n",
       "  '2.[1280x720] Video Python Overview  Python Basics  DSE200x Courseware  edX.mp4'),\n",
       " (20,\n",
       "  '20.[1280x720] Video Dictionaries in Python  Python Key Data Structures  DSE200x Courseware  edX.mp4'),\n",
       " (21,\n",
       "  '21.[1280x720] Video List and Dictionary Comprehension  Python Key Data Structures  DSE200x Courseware  edX.mp4'),\n",
       " (22,\n",
       "  '22.[1280x720] Video Sets in Python  Python Key Data Structures  DSE200x Courseware  edX.mp4'),\n",
       " (24,\n",
       "  '24.[1280x720] Video Introduction to Unix  UNIX  DSE200x Courseware  edX.mp4'),\n",
       " (25,\n",
       "  '25.[1280x720] Video Live Code, Intro to UNIX  UNIX  DSE200x Courseware  edX.mp4'),\n",
       " (26,\n",
       "  '26.[1280x720] Video Basic Unix Commands  UNIX  DSE200x Courseware  edX.mp4'),\n",
       " (27,\n",
       "  '27.[1280x720] Video Redirecting Standard IO  UNIX  DSE200x Courseware  edX.mp4'),\n",
       " (28,\n",
       "  '28.[1280x720] Video Live Code, Redirecting Standard IO  UNIX  DSE200x Courseware  edX.mp4'),\n",
       " (29,\n",
       "  '29.[1280x720] Video Pipes and Filters  UNIX  DSE200x Courseware  edX.mp4'),\n",
       " (3,\n",
       "  '3.[1280x720] Expert Video Value of Python in Data Science  Python Basics  DSE200x Courseware  edX.mp4'),\n",
       " (3,\n",
       "  '3.[1280x720] Video Ilkay Altintas  Getting to Know Your Instructors  DSE200x Courseware  edX.mp4'),\n",
       " (30,\n",
       "  '30.[1280x720] Video Live Code, Pipes and Filters  UNIX  DSE200x Courseware  edX.mp4'),\n",
       " (31,\n",
       "  '31.[1280x720] Video Useful UNIX Commands for Data Science  UNIX  DSE200x Courseware  edX.mp4'),\n",
       " (32,\n",
       "  '32.[1280x720] Video Live Code, Useful UNIX Commands for Data Science  UNIX  DSE200x Courseware  edX.mp4'),\n",
       " (4,\n",
       "  '4.[1280x720] Video Course Overview  Syllabus and Course Information  DSE200x Courseware  edX.mp4'),\n",
       " (4,\n",
       "  '4.[1280x720] Video Python, Variables  Python Basics  DSE200x Courseware  edX.mp4'),\n",
       " (5,\n",
       "  '5.[1280x720] MicroMasters in Data Science  Succeeding in this Course  DSE200x Courseware  edX.mp4'),\n",
       " (5,\n",
       "  '5.[1280x720] Video Python, Objects Part 1  Python Basics  DSE200x Courseware  edX.mp4'),\n",
       " (6,\n",
       "  '6.[1280x720] Video Python, Objects Part 2  Python Basics  DSE200x Courseware  edX.mp4'),\n",
       " (7,\n",
       "  '7.[1280x720] Video Python, Variables Quiz Explanation  Python Basics  DSE200x Courseware  edX.mp4'),\n",
       " (8,\n",
       "  '8.[1280x720] Video Python, Loops  Python Basics  DSE200x Courseware  edX.mp4'),\n",
       " (9,\n",
       "  '9.[1280x720] Video Python, Loop Quiz Explanation  Python Basics  DSE200x Courseware  edX.mp4')]"
      ]
     },
     "execution_count": 53,
     "metadata": {},
     "output_type": "execute_result"
    }
   ],
   "source": [
    "liste"
   ]
  },
  {
   "cell_type": "code",
   "execution_count": 54,
   "metadata": {},
   "outputs": [
    {
     "data": {
      "text/plain": [
       "[(1,\n",
       "  '1.[1280x720] Video Course Introduction  Welcome  DSE200x Courseware  edX.mp4'),\n",
       " (1,\n",
       "  '1.[1280x720] Video Getting Value out of Data  Engagement Data Science, Generating Value From Data  DSE200x Courseware  edX (1).mp4'),\n",
       " (1,\n",
       "  '1.[1280x720] Video Introduction  Week 2 Introduction  DSE200x Courseware  edX.mp4'),\n",
       " (2,\n",
       "  '2.[1280x720] Video How Does Data Science Happen  Engagement How Data Science Happens  DSE200x Courseware  edX.mp4'),\n",
       " (2,\n",
       "  '2.[1280x720] Video Leo Porter  Getting to Know Your Instructors  DSE200x Courseware  edX.mp4'),\n",
       " (2,\n",
       "  '2.[1280x720] Video Python Overview  Python Basics  DSE200x Courseware  edX.mp4'),\n",
       " (3,\n",
       "  '3.[1280x720] Expert Video Value of Python in Data Science  Python Basics  DSE200x Courseware  edX.mp4'),\n",
       " (3,\n",
       "  '3.[1280x720] Video Ilkay Altintas  Getting to Know Your Instructors  DSE200x Courseware  edX.mp4'),\n",
       " (4,\n",
       "  '4.[1280x720] Video Course Overview  Syllabus and Course Information  DSE200x Courseware  edX.mp4'),\n",
       " (4,\n",
       "  '4.[1280x720] Video Python, Variables  Python Basics  DSE200x Courseware  edX.mp4'),\n",
       " (5,\n",
       "  '5.[1280x720] MicroMasters in Data Science  Succeeding in this Course  DSE200x Courseware  edX.mp4'),\n",
       " (5,\n",
       "  '5.[1280x720] Video Python, Objects Part 1  Python Basics  DSE200x Courseware  edX.mp4'),\n",
       " (6,\n",
       "  '6.[1280x720] Video Python, Objects Part 2  Python Basics  DSE200x Courseware  edX.mp4'),\n",
       " (7,\n",
       "  '7.[1280x720] Video Python, Variables Quiz Explanation  Python Basics  DSE200x Courseware  edX.mp4'),\n",
       " (8,\n",
       "  '8.[1280x720] Video Python, Loops  Python Basics  DSE200x Courseware  edX.mp4'),\n",
       " (9,\n",
       "  '9.[1280x720] Video Python, Loop Quiz Explanation  Python Basics  DSE200x Courseware  edX.mp4'),\n",
       " (10,\n",
       "  '10.[1280x720] Video Python, Conditions  Python Basics  DSE200x Courseware  edX.mp4'),\n",
       " (11,\n",
       "  '11.[1280x720] Video Python, Functions  Python Basics  DSE200x Courseware  edX.mp4'),\n",
       " (12,\n",
       "  '12[1280x720] Video Python, Function Quiz 1 Explanation  Python Basics  DSE200x Courseware  edX.mp4'),\n",
       " (13,\n",
       "  '13.[1280x720] Video Function Quiz 2 Explanation, False vs Swap  Python Basics  DSE200x Courseware  edX.mp4'),\n",
       " (14, '14 Step 4, Reporting Insights.mp4'),\n",
       " (14,\n",
       "  '14.[1280x720] Video Python, Scope  Python Basics  DSE200x Courseware  edX.mp4'),\n",
       " (15,\n",
       "  '15.[1280x720] Video Data Structures and Basic Libraries in Python  Python Key Data Structures  DSE200x Courseware  edX.mp4'),\n",
       " (16,\n",
       "  '16.[1280x720] Video String Functions  Python Key Data Structures  DSE200x Courseware  edX.mp4'),\n",
       " (17,\n",
       "  '17.[1280x720] Video Lists in Python  Python Key Data Structures  DSE200x Courseware  edX.mp4'),\n",
       " (18,\n",
       "  '18.[1280x720] Video Reference Quiz Explanation  Python Key Data Structures  DSE200x Courseware  edX.mp4'),\n",
       " (19,\n",
       "  '19.[1280x720] Video Tuples in Python  Python Key Data Structures  DSE200x Courseware  edX.mp4'),\n",
       " (20,\n",
       "  '20.[1280x720] Video Dictionaries in Python  Python Key Data Structures  DSE200x Courseware  edX.mp4'),\n",
       " (21,\n",
       "  '21.[1280x720] Video List and Dictionary Comprehension  Python Key Data Structures  DSE200x Courseware  edX.mp4'),\n",
       " (22,\n",
       "  '22.[1280x720] Video Sets in Python  Python Key Data Structures  DSE200x Courseware  edX.mp4'),\n",
       " (24,\n",
       "  '24.[1280x720] Video Introduction to Unix  UNIX  DSE200x Courseware  edX.mp4'),\n",
       " (25,\n",
       "  '25.[1280x720] Video Live Code, Intro to UNIX  UNIX  DSE200x Courseware  edX.mp4'),\n",
       " (26,\n",
       "  '26.[1280x720] Video Basic Unix Commands  UNIX  DSE200x Courseware  edX.mp4'),\n",
       " (27,\n",
       "  '27.[1280x720] Video Redirecting Standard IO  UNIX  DSE200x Courseware  edX.mp4'),\n",
       " (28,\n",
       "  '28.[1280x720] Video Live Code, Redirecting Standard IO  UNIX  DSE200x Courseware  edX.mp4'),\n",
       " (29,\n",
       "  '29.[1280x720] Video Pipes and Filters  UNIX  DSE200x Courseware  edX.mp4'),\n",
       " (30,\n",
       "  '30.[1280x720] Video Live Code, Pipes and Filters  UNIX  DSE200x Courseware  edX.mp4'),\n",
       " (31,\n",
       "  '31.[1280x720] Video Useful UNIX Commands for Data Science  UNIX  DSE200x Courseware  edX.mp4'),\n",
       " (32,\n",
       "  '32.[1280x720] Video Live Code, Useful UNIX Commands for Data Science  UNIX  DSE200x Courseware  edX.mp4')]"
      ]
     },
     "execution_count": 54,
     "metadata": {},
     "output_type": "execute_result"
    }
   ],
   "source": [
    "sorted(liste)"
   ]
  }
 ],
 "metadata": {
  "kernelspec": {
   "display_name": "Python 3",
   "language": "python",
   "name": "python3"
  },
  "language_info": {
   "codemirror_mode": {
    "name": "ipython",
    "version": 3
   },
   "file_extension": ".py",
   "mimetype": "text/x-python",
   "name": "python",
   "nbconvert_exporter": "python",
   "pygments_lexer": "ipython3",
   "version": "3.8.1"
  }
 },
 "nbformat": 4,
 "nbformat_minor": 4
}
